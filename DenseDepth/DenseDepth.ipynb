{
  "cells": [
    {
      "cell_type": "markdown",
      "metadata": {
        "colab_type": "text",
        "id": "view-in-github"
      },
      "source": [
        "<a href=\"https://colab.research.google.com/github/ialhashim/DenseDepth/blob/master/DenseDepth.ipynb\" target=\"_parent\"><img src=\"https://colab.research.google.com/assets/colab-badge.svg\" alt=\"Open In Colab\"/></a>"
      ]
    },
    {
      "cell_type": "code",
      "execution_count": null,
      "metadata": {
        "colab": {
          "base_uri": "https://localhost:8080/",
          "height": 139
        },
        "colab_type": "code",
        "id": "ahkR4C5dEnR0",
        "outputId": "491e7243-6dee-4e32-95c9-a817004775cd"
      },
      "outputs": [],
      "source": [
        "!git clone https://github.com/ialhashim/DenseDepth.git"
      ]
    },
    {
      "cell_type": "code",
      "execution_count": null,
      "metadata": {
        "colab": {
          "base_uri": "https://localhost:8080/",
          "height": 208
        },
        "colab_type": "code",
        "id": "fFQgwMlNExak",
        "outputId": "7d24f022-15a9-444c-ca34-8a351dd3ecee"
      },
      "outputs": [],
      "source": [
        "!wget https://s3-eu-west-1.amazonaws.com/densedepth/nyu.h5 -O ./DenseDepth/nyu.h5"
      ]
    },
    {
      "cell_type": "code",
      "execution_count": null,
      "metadata": {
        "colab": {
          "base_uri": "https://localhost:8080/",
          "height": 468
        },
        "colab_type": "code",
        "id": "AiJKd6uLE9Gr",
        "outputId": "6112f988-b298-4552-e9b6-2fb45368a3fa"
      },
      "outputs": [],
      "source": [
        "!cd DenseDepth; python test.py"
      ]
    },
    {
      "cell_type": "code",
      "execution_count": null,
      "metadata": {
        "colab": {
          "base_uri": "https://localhost:8080/",
          "height": 627
        },
        "colab_type": "code",
        "id": "HjzqM74-FfyL",
        "outputId": "d4f6a35a-6801-4554-c6ad-583209ffe47a"
      },
      "outputs": [],
      "source": [
        "from matplotlib import pyplot as plt\n",
        "from skimage import io\n",
        "\n",
        "plt.figure(figsize=(20,20))\n",
        "plt.imshow( io.imread('./DenseDepth/test.png') )"
      ]
    },
    {
      "cell_type": "code",
      "execution_count": null,
      "metadata": {
        "colab": {},
        "colab_type": "code",
        "id": "Ra7GEtQBHUMS"
      },
      "outputs": [],
      "source": [
        "!cd DenseDepth/PyTorch; python test_pytorch.py\n",
        "from matplotlib import pyplot as plt\n",
        "from skimage import io\n",
        "\n",
        "plt.figure(figsize=(20,20))\n",
        "plt.imshow( io.imread('./DenseDepth/test.png') )"
      ]
    }
  ],
  "metadata": {
    "accelerator": "GPU",
    "colab": {
      "collapsed_sections": [],
      "include_colab_link": true,
      "name": "DenseDepth",
      "provenance": [],
      "version": "0.3.2"
    },
    "kernelspec": {
      "display_name": "Python 3",
      "name": "python3"
    }
  },
  "nbformat": 4,
  "nbformat_minor": 0
}
